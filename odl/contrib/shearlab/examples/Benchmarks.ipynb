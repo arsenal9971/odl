{
 "cells": [
  {
   "cell_type": "markdown",
   "metadata": {},
   "source": [
    "# <center> Shearlab decomposition benchmarks </center>"
   ]
  },
  {
   "cell_type": "code",
   "execution_count": 1,
   "metadata": {},
   "outputs": [],
   "source": [
    "# Importing julia\n",
    "import julia\n",
    "import matplotlib.pyplot as plt\n",
    "%matplotlib inline\n",
    "import pylab\n",
    "from math import ceil\n",
    "from numpy.fft import fft2, ifft2, fftshift, ifftshift\n",
    "import numpy as np\n",
    "import pyshearlab"
   ]
  },
  {
   "cell_type": "code",
   "execution_count": 2,
   "metadata": {},
   "outputs": [],
   "source": [
    "def tic():\n",
    "    #Homemade version of matlab tic and toc functions\n",
    "    import time\n",
    "    global startTime_for_tictoc\n",
    "    startTime_for_tictoc = time.time()\n",
    "\n",
    "def toc():\n",
    "    import time\n",
    "    if 'startTime_for_tictoc' in globals():\n",
    "        print(\"Elapsed time is \" + str(time.time() - startTime_for_tictoc) + \" seconds.\")\n",
    "    else:\n",
    "        print(\"Toc: start time not set\")"
   ]
  },
  {
   "cell_type": "code",
   "execution_count": 3,
   "metadata": {},
   "outputs": [],
   "source": [
    "# Function to load Shearlab\n",
    "def load_Shearlab():\n",
    "    # Importing base\n",
    "    j = julia.Julia()\n",
    "    j.eval('using Shearlab')\n",
    "    j.eval('using PyPlot')\n",
    "    j.eval('using Images')\n",
    "    return j"
   ]
  },
  {
   "cell_type": "code",
   "execution_count": 35,
   "metadata": {},
   "outputs": [],
   "source": [
    "# Function to load images with certain size\n",
    "def load_image(name, n, m=None, gpu=0, square=0):\n",
    "    if m is None:\n",
    "        m = n\n",
    "    command = ('Shearlab.load_image(\"{}\", {}, {}, {}, {})'\n",
    "           ''.format(name, n, m, gpu, square))\n",
    "    return j.eval(command)"
   ]
  },
  {
   "cell_type": "code",
   "execution_count": 5,
   "metadata": {},
   "outputs": [],
   "source": [
    "# Function to plot images\n",
    "def imageplot(f, str='', sbpt=[]):\n",
    "    \"\"\"\n",
    "        Use nearest neighbor interpolation for the display.\n",
    "    \"\"\"\n",
    "    if sbpt != []:\n",
    "        plt.subplot(sbpt[0], sbpt[1], sbpt[2])\n",
    "    imgplot = plt.imshow(f, interpolation='nearest')\n",
    "    imgplot.set_cmap('gray')\n",
    "    pylab.axis('off')\n",
    "    if str != '':\n",
    "        plt.title(str)"
   ]
  },
  {
   "cell_type": "code",
   "execution_count": 6,
   "metadata": {},
   "outputs": [],
   "source": [
    "# Class of shearlet system in 2D\n",
    "class Shearletsystem2D:\n",
    "    def __init__(self, shearlets, size, shearLevels, full, nShearlets,\n",
    "                 shearletIdxs, dualFrameWeights, RMS, isComplex):\n",
    "        self.shearlets = shearlets\n",
    "        self.size = size\n",
    "        self.shearLevels = shearLevels\n",
    "        self.full = full\n",
    "        self.nShearlets = nShearlets\n",
    "        self.shearletIdxs = shearletIdxs\n",
    "        self.dualFrameWeights = dualFrameWeights\n",
    "        self.RMS = RMS\n",
    "        self.isComplex = isComplex"
   ]
  },
  {
   "cell_type": "code",
   "execution_count": 7,
   "metadata": {},
   "outputs": [],
   "source": [
    "# Function to generate de 2D system\n",
    "def getshearletsystem2D(rows, cols, nScales, shearLevels=None,\n",
    "                        full=0,\n",
    "                        directionalFilter='Shearlab.filt_gen(\"directional_shearlet\")',\n",
    "                        quadratureMirrorFilter='Shearlab.filt_gen(\"scaling_shearlet\")'):\n",
    "    if shearLevels is None:\n",
    "        shearLevels = [float(ceil(i / 2)) for i in range(1, nScales + 1)]\n",
    "    j.eval('rows=' + str(rows))\n",
    "    j.eval('cols=' + str(cols))\n",
    "    j.eval('nScales=' + str(nScales))\n",
    "    j.eval('shearLevels=' + str(shearLevels))\n",
    "    j.eval('full=' + str(full))\n",
    "    j.eval('directionalFilter=' + directionalFilter)\n",
    "    j.eval('quadratureMirrorFilter=' + quadratureMirrorFilter)\n",
    "    j.eval('shearletSystem=Shearlab.getshearletsystem2D(rows,cols, nScales, shearLevels, full, directionalFilter,quadratureMirrorFilter) ')\n",
    "    shearlets = j.eval('shearletSystem.shearlets')\n",
    "    size = j.eval('shearletSystem.size')\n",
    "    shearLevels = j.eval('shearletSystem.shearLevels')\n",
    "    full = j.eval('shearletSystem.full')\n",
    "    nShearlets = j.eval('shearletSystem.nShearlets')\n",
    "    shearletIdxs = j.eval('shearletSystem.shearletIdxs')\n",
    "    dualFrameWeights = j.eval('shearletSystem.dualFrameWeights')\n",
    "    RMS = j.eval('shearletSystem.RMS')\n",
    "    isComplex = j.eval('shearletSystem.isComplex')\n",
    "    return Shearletsystem2D(shearlets, size, shearLevels, full, nShearlets,\n",
    "                            shearletIdxs, dualFrameWeights, RMS, isComplex)"
   ]
  },
  {
   "cell_type": "code",
   "execution_count": 8,
   "metadata": {},
   "outputs": [],
   "source": [
    "# Shearlet Decomposition function\n",
    "def sheardec2D(X, shearletSystem):\n",
    "    coeffs = np.zeros(shearletSystem.shearlets.shape, dtype=np.complex_)\n",
    "    Xfreq = fftshift(fft2(ifftshift(X)))\n",
    "    for i in range(shearletSystem.nShearlets):\n",
    "        coeffs[:, :, i] = fftshift(ifft2(ifftshift(Xfreq * np.conj(\n",
    "                                   shearletSystem.shearlets[:, :, i]))))\n",
    "    return coeffs.real"
   ]
  },
  {
   "cell_type": "code",
   "execution_count": 9,
   "metadata": {},
   "outputs": [],
   "source": [
    "# Shearlet Recovery function\n",
    "def shearrec2D(coeffs, shearletSystem):\n",
    "    X = np.zeros((coeffs.shape[0], coeffs.shape[1]), dtype=np.complex_)\n",
    "    for i in range(shearletSystem.nShearlets):\n",
    "        X = X + fftshift(fft2(ifftshift(coeffs[:, :, i]))) * shearletSystem.shearlets[:, :, i]\n",
    "    return (fftshift(ifft2(ifftshift((\n",
    "            1 / shearletSystem.dualFrameWeights) * X)))).real"
   ]
  },
  {
   "cell_type": "code",
   "execution_count": 10,
   "metadata": {},
   "outputs": [],
   "source": [
    "# Shearlet Decomposition adjoint function\n",
    "def sheardecadjoint2D(coeffs, shearletSystem):\n",
    "    X = np.zeros((coeffs.shape[0], coeffs.shape[1]), dtype=complex)\n",
    "    for i in range(shearletSystem.nShearlets):\n",
    "        X = X + fftshift(fft2(ifftshift(coeffs[:, :, i]))) * np.conj(shearletSystem.shearlets[:, :, i])\n",
    "    return fftshift(ifft2(ifftshift(X))).real"
   ]
  },
  {
   "cell_type": "code",
   "execution_count": 11,
   "metadata": {},
   "outputs": [],
   "source": [
    "# Shearlet Recovery adjoint function\n",
    "def shearrecadjoint2D(X, shearletSystem):\n",
    "    coeffs = np.zeros(shearletSystem.shearlets.shape, dtype=np.complex_)\n",
    "    Xfreq = fftshift(fft2(ifftshift(X)))\n",
    "    for i in range(shearletSystem.nShearlets):\n",
    "        coeffs[:, :, i] = fftshift(ifft2(ifftshift(\n",
    "            Xfreq * shearletSystem.shearlets[:, :, i])))\n",
    "    return coeffs.real"
   ]
  },
  {
   "cell_type": "markdown",
   "metadata": {},
   "source": [
    "## Pure julia function"
   ]
  },
  {
   "cell_type": "code",
   "execution_count": 30,
   "metadata": {},
   "outputs": [],
   "source": [
    "j = load_Shearlab()"
   ]
  },
  {
   "cell_type": "code",
   "execution_count": 13,
   "metadata": {},
   "outputs": [],
   "source": [
    "n = 512\n",
    "m = n\n",
    "gpu = 0\n",
    "square = 0\n",
    "name = './data_samples/lena.jpg';"
   ]
  },
  {
   "cell_type": "code",
   "execution_count": 14,
   "metadata": {},
   "outputs": [],
   "source": [
    "nScales = 4;\n",
    "shearLevels = [float(ceil(i/2)) for i in range(1,nScales+1)]\n",
    "scalingFilter = 'Shearlab.filt_gen(\"scaling_shearlet\")'\n",
    "directionalFilter = 'Shearlab.filt_gen(\"directional_shearlet\")'\n",
    "waveletFilter = 'Shearlab.mirror(scalingFilter)'\n",
    "scalingFilter2 = 'scalingFilter'\n",
    "full = 0;"
   ]
  },
  {
   "cell_type": "code",
   "execution_count": 15,
   "metadata": {},
   "outputs": [],
   "source": [
    "# Read Data\n",
    "j.eval('n = 512;')\n",
    "# The path of the image\n",
    "j.eval('name = \"./lena.jpg\";');"
   ]
  },
  {
   "cell_type": "code",
   "execution_count": 16,
   "metadata": {},
   "outputs": [
    {
     "name": "stdout",
     "output_type": "stream",
     "text": [
      "Elapsed time is 6.044372320175171 seconds.\n"
     ]
    }
   ],
   "source": [
    "# Pure Julia\n",
    "tic()\n",
    "j.eval('X = Shearlab.load_image(name, n);');\n",
    "toc()"
   ]
  },
  {
   "cell_type": "code",
   "execution_count": 36,
   "metadata": {},
   "outputs": [
    {
     "name": "stdout",
     "output_type": "stream",
     "text": [
      "Elapsed time is 0.056955575942993164 seconds.\n"
     ]
    }
   ],
   "source": [
    "# Julia/Python\n",
    "tic()\n",
    "data = load_image(name,n);\n",
    "toc()"
   ]
  },
  {
   "cell_type": "code",
   "execution_count": 18,
   "metadata": {},
   "outputs": [],
   "source": [
    "sizeX = data.shape[0]\n",
    "sizeY = data.shape[1]\n",
    "rows = sizeX\n",
    "cols = sizeY\n",
    "X = data;"
   ]
  },
  {
   "cell_type": "markdown",
   "metadata": {},
   "source": [
    "** Shearlet System generation **"
   ]
  },
  {
   "cell_type": "code",
   "execution_count": 27,
   "metadata": {},
   "outputs": [
    {
     "name": "stdout",
     "output_type": "stream",
     "text": [
      "Elapsed time is 9.282433986663818 seconds.\n"
     ]
    }
   ],
   "source": [
    "# Python/Julia\n",
    "tic()\n",
    "shearletSystem_jl = getshearletsystem2D(rows,cols,nScales,shearLevels,full,directionalFilter,scalingFilter);\n",
    "toc()"
   ]
  },
  {
   "cell_type": "code",
   "execution_count": 20,
   "metadata": {},
   "outputs": [
    {
     "name": "stdout",
     "output_type": "stream",
     "text": [
      "Elapsed time is 44.695961713790894 seconds.\n"
     ]
    }
   ],
   "source": [
    "# pyShearlab\n",
    "tic()\n",
    "shearletSystem_py = pyshearlab.SLgetShearletSystem2D(0,rows, cols, nScales)\n",
    "toc()"
   ]
  },
  {
   "cell_type": "markdown",
   "metadata": {},
   "source": [
    "** Coefficients computation **"
   ]
  },
  {
   "cell_type": "code",
   "execution_count": 21,
   "metadata": {},
   "outputs": [
    {
     "name": "stdout",
     "output_type": "stream",
     "text": [
      "Elapsed time is 1.771695613861084 seconds.\n"
     ]
    }
   ],
   "source": [
    "# Pure Julia\n",
    "tic()\n",
    "j.eval('coeffs = Shearlab.SLsheardec2D(X,shearletSystem);');\n",
    "toc()"
   ]
  },
  {
   "cell_type": "code",
   "execution_count": 28,
   "metadata": {},
   "outputs": [
    {
     "name": "stdout",
     "output_type": "stream",
     "text": [
      "Elapsed time is 2.234919309616089 seconds.\n"
     ]
    }
   ],
   "source": [
    "# Julia/Python\n",
    "tic()\n",
    "coeffs_jl = sheardec2D(X,shearletSystem_jl);\n",
    "toc()"
   ]
  },
  {
   "cell_type": "code",
   "execution_count": 23,
   "metadata": {},
   "outputs": [
    {
     "name": "stdout",
     "output_type": "stream",
     "text": [
      "Elapsed time is 1.7131218910217285 seconds.\n"
     ]
    }
   ],
   "source": [
    "# pyShearlab\n",
    "tic()\n",
    "coeffs_py = pyshearlab.SLsheardec2D(X, shearletSystem_py)\n",
    "toc()"
   ]
  },
  {
   "cell_type": "markdown",
   "metadata": {},
   "source": [
    "** Reconstruction **"
   ]
  },
  {
   "cell_type": "code",
   "execution_count": 24,
   "metadata": {},
   "outputs": [
    {
     "name": "stdout",
     "output_type": "stream",
     "text": [
      "Elapsed time is 1.3021342754364014 seconds.\n"
     ]
    }
   ],
   "source": [
    "# Pure Julia\n",
    "tic()\n",
    "j.eval('Xrec=Shearlab.SLshearrec2D(coeffs,shearletSystem);');\n",
    "toc()"
   ]
  },
  {
   "cell_type": "code",
   "execution_count": 25,
   "metadata": {},
   "outputs": [
    {
     "name": "stdout",
     "output_type": "stream",
     "text": [
      "Elapsed time is 1.525679349899292 seconds.\n"
     ]
    }
   ],
   "source": [
    "# Julia/Python\n",
    "tic()\n",
    "Xrec_jl = shearrec2D(coeffs_jl,shearletSystem_jl);\n",
    "toc()"
   ]
  },
  {
   "cell_type": "code",
   "execution_count": 29,
   "metadata": {},
   "outputs": [
    {
     "name": "stdout",
     "output_type": "stream",
     "text": [
      "Elapsed time is 1.102597951889038 seconds.\n"
     ]
    }
   ],
   "source": [
    "# pyShearlab\n",
    "tic()\n",
    "Xrec_py = pyshearlab.SLshearrec2D(coeffs_py, shearletSystem_py)\n",
    "toc()"
   ]
  }
 ],
 "metadata": {
  "kernelspec": {
   "display_name": "Python 3",
   "language": "python",
   "name": "python3"
  },
  "language_info": {
   "codemirror_mode": {
    "name": "ipython",
    "version": 3
   },
   "file_extension": ".py",
   "mimetype": "text/x-python",
   "name": "python",
   "nbconvert_exporter": "python",
   "pygments_lexer": "ipython3",
   "version": "3.4.6"
  }
 },
 "nbformat": 4,
 "nbformat_minor": 2
}
